{
 "cells": [
  {
   "cell_type": "markdown",
   "id": "growing-therapy",
   "metadata": {},
   "source": [
    "# Introduction\n",
    "\n",
    " blah blah"
   ]
  },
  {
   "cell_type": "code",
   "execution_count": 2,
   "id": "ethical-briefing",
   "metadata": {},
   "outputs": [],
   "source": [
    "import pandas as pd\n",
    "import numpy as np\n",
    "import matplotlib.pyplot as plt\n",
    "import seaborn as sn"
   ]
  },
  {
   "cell_type": "code",
   "execution_count": 73,
   "id": "legislative-asset",
   "metadata": {},
   "outputs": [
    {
     "name": "stdout",
     "output_type": "stream",
     "text": [
      "total 176\r\n",
      "-rw-r--r-- 1 rafael rafael  25879 dez  2  2020  lisbon-houses.csv\r\n",
      "-rw-r--r-- 1 rafael rafael    337 nov  1 18:29  README.md\r\n",
      "-rw-r--r-- 1 rafael rafael     41 nov 24 21:12  token.txt\r\n",
      "-rw-r--r-- 1 rafael rafael 142770 nov 24 22:13 'Project - Lisbon House Prices.ipynb'\r\n"
     ]
    }
   ],
   "source": [
    "! ls -lrt"
   ]
  },
  {
   "cell_type": "code",
   "execution_count": 12,
   "id": "quiet-stephen",
   "metadata": {},
   "outputs": [],
   "source": [
    "df_raw= pd.read_csv('lisbon-houses.csv')"
   ]
  },
  {
   "cell_type": "code",
   "execution_count": 13,
   "id": "undefined-workshop",
   "metadata": {
    "scrolled": true
   },
   "outputs": [
    {
     "data": {
      "text/plain": [
       "Id                   int64\n",
       "Condition           object\n",
       "PropertyType        object\n",
       "PropertySubType     object\n",
       "Bedrooms             int64\n",
       "Bathrooms            int64\n",
       "AreaNet              int64\n",
       "AreaGross            int64\n",
       "Parking              int64\n",
       "Latitude           float64\n",
       "Longitude          float64\n",
       "Country             object\n",
       "District            object\n",
       "Municipality        object\n",
       "Parish              object\n",
       "Price M2             int64\n",
       "Price                int64\n",
       "dtype: object"
      ]
     },
     "execution_count": 13,
     "metadata": {},
     "output_type": "execute_result"
    }
   ],
   "source": [
    "df_raw.dtypes"
   ]
  },
  {
   "cell_type": "code",
   "execution_count": 15,
   "id": "handy-removal",
   "metadata": {},
   "outputs": [
    {
     "data": {
      "text/plain": [
       "Id                   Int64\n",
       "Condition           string\n",
       "PropertyType        string\n",
       "PropertySubType     string\n",
       "Bedrooms             Int64\n",
       "Bathrooms            Int64\n",
       "AreaNet              Int64\n",
       "AreaGross            Int64\n",
       "Parking              Int64\n",
       "Latitude           Float64\n",
       "Longitude          Float64\n",
       "Country             string\n",
       "District            string\n",
       "Municipality        string\n",
       "Parish              string\n",
       "Price M2             Int64\n",
       "Price                Int64\n",
       "dtype: object"
      ]
     },
     "execution_count": 15,
     "metadata": {},
     "output_type": "execute_result"
    }
   ],
   "source": [
    "df = df_raw.convert_dtypes()\n",
    "df.dtypes"
   ]
  },
  {
   "cell_type": "code",
   "execution_count": 70,
   "id": "third-reminder",
   "metadata": {},
   "outputs": [
    {
     "ename": "NameError",
     "evalue": "name 'df_train' is not defined",
     "output_type": "error",
     "traceback": [
      "\u001b[0;31m---------------------------------------------------------------------------\u001b[0m",
      "\u001b[0;31mNameError\u001b[0m                                 Traceback (most recent call last)",
      "Input \u001b[0;32mIn [70]\u001b[0m, in \u001b[0;36m<module>\u001b[0;34m\u001b[0m\n\u001b[0;32m----> 1\u001b[0m numerical_feats \u001b[38;5;241m=\u001b[39m df\u001b[38;5;241m.\u001b[39mdtypes[\u001b[43mdf_train\u001b[49m\u001b[38;5;241m.\u001b[39mdtypes \u001b[38;5;241m!=\u001b[39m \u001b[38;5;124m\"\u001b[39m\u001b[38;5;124mstring\u001b[39m\u001b[38;5;124m\"\u001b[39m]\u001b[38;5;241m.\u001b[39mindex\n\u001b[1;32m      2\u001b[0m \u001b[38;5;28mprint\u001b[39m(\u001b[38;5;124m\"\u001b[39m\u001b[38;5;124mNumber of Numerical features: \u001b[39m\u001b[38;5;124m\"\u001b[39m, \u001b[38;5;28mlen\u001b[39m(numerical_feats))\n\u001b[1;32m      4\u001b[0m categorical_feats \u001b[38;5;241m=\u001b[39m df_train\u001b[38;5;241m.\u001b[39mdtypes[df_train\u001b[38;5;241m.\u001b[39mdtypes \u001b[38;5;241m==\u001b[39m \u001b[38;5;124m\"\u001b[39m\u001b[38;5;124mstring\u001b[39m\u001b[38;5;124m\"\u001b[39m]\u001b[38;5;241m.\u001b[39mindex\n",
      "\u001b[0;31mNameError\u001b[0m: name 'df_train' is not defined"
     ]
    }
   ],
   "source": [
    "\n",
    "\n",
    "numerical_feats = df.dtypes[df.dtypes != \"string\"].index\n",
    "print(\"Number of Numerical features: \", len(numerical_feats))\n",
    "\n",
    "categorical_feats = df.dtypes[df.dtypes == \"string\"].index\n",
    "print(\"Number of Categorical features: \", len(categorical_feats))\n",
    "\n"
   ]
  },
  {
   "cell_type": "code",
   "execution_count": 16,
   "id": "forced-speech",
   "metadata": {
    "scrolled": false
   },
   "outputs": [
    {
     "data": {
      "text/html": [
       "<div>\n",
       "<style scoped>\n",
       "    .dataframe tbody tr th:only-of-type {\n",
       "        vertical-align: middle;\n",
       "    }\n",
       "\n",
       "    .dataframe tbody tr th {\n",
       "        vertical-align: top;\n",
       "    }\n",
       "\n",
       "    .dataframe thead th {\n",
       "        text-align: right;\n",
       "    }\n",
       "</style>\n",
       "<table border=\"1\" class=\"dataframe\">\n",
       "  <thead>\n",
       "    <tr style=\"text-align: right;\">\n",
       "      <th></th>\n",
       "      <th>Id</th>\n",
       "      <th>Condition</th>\n",
       "      <th>PropertyType</th>\n",
       "      <th>PropertySubType</th>\n",
       "      <th>Bedrooms</th>\n",
       "      <th>Bathrooms</th>\n",
       "      <th>AreaNet</th>\n",
       "      <th>AreaGross</th>\n",
       "      <th>Parking</th>\n",
       "      <th>Latitude</th>\n",
       "      <th>Longitude</th>\n",
       "      <th>Country</th>\n",
       "      <th>District</th>\n",
       "      <th>Municipality</th>\n",
       "      <th>Parish</th>\n",
       "      <th>Price M2</th>\n",
       "      <th>Price</th>\n",
       "    </tr>\n",
       "  </thead>\n",
       "  <tbody>\n",
       "    <tr>\n",
       "      <th>0</th>\n",
       "      <td>101</td>\n",
       "      <td>Used</td>\n",
       "      <td>Homes</td>\n",
       "      <td>Apartment</td>\n",
       "      <td>3</td>\n",
       "      <td>1</td>\n",
       "      <td>76</td>\n",
       "      <td>152</td>\n",
       "      <td>0</td>\n",
       "      <td>38.7792</td>\n",
       "      <td>-9.1186</td>\n",
       "      <td>Portugal</td>\n",
       "      <td>Lisboa</td>\n",
       "      <td>Lisboa</td>\n",
       "      <td>Olivais</td>\n",
       "      <td>2463</td>\n",
       "      <td>198000</td>\n",
       "    </tr>\n",
       "    <tr>\n",
       "      <th>1</th>\n",
       "      <td>102</td>\n",
       "      <td>Used</td>\n",
       "      <td>Homes</td>\n",
       "      <td>Duplex</td>\n",
       "      <td>5</td>\n",
       "      <td>3</td>\n",
       "      <td>190</td>\n",
       "      <td>380</td>\n",
       "      <td>0</td>\n",
       "      <td>38.7056</td>\n",
       "      <td>-9.1784</td>\n",
       "      <td>Portugal</td>\n",
       "      <td>Lisboa</td>\n",
       "      <td>Lisboa</td>\n",
       "      <td>Alcantara</td>\n",
       "      <td>3125</td>\n",
       "      <td>1270000</td>\n",
       "    </tr>\n",
       "    <tr>\n",
       "      <th>2</th>\n",
       "      <td>103</td>\n",
       "      <td>Used</td>\n",
       "      <td>Homes</td>\n",
       "      <td>Apartment</td>\n",
       "      <td>1</td>\n",
       "      <td>1</td>\n",
       "      <td>26</td>\n",
       "      <td>52</td>\n",
       "      <td>0</td>\n",
       "      <td>38.7058</td>\n",
       "      <td>-9.1639</td>\n",
       "      <td>Portugal</td>\n",
       "      <td>Lisboa</td>\n",
       "      <td>Lisboa</td>\n",
       "      <td>Estrela</td>\n",
       "      <td>4005</td>\n",
       "      <td>140000</td>\n",
       "    </tr>\n",
       "    <tr>\n",
       "      <th>3</th>\n",
       "      <td>104</td>\n",
       "      <td>Used</td>\n",
       "      <td>Homes</td>\n",
       "      <td>Apartment</td>\n",
       "      <td>5</td>\n",
       "      <td>4</td>\n",
       "      <td>185</td>\n",
       "      <td>370</td>\n",
       "      <td>0</td>\n",
       "      <td>38.7466</td>\n",
       "      <td>-9.164</td>\n",
       "      <td>Portugal</td>\n",
       "      <td>Lisboa</td>\n",
       "      <td>Lisboa</td>\n",
       "      <td>Sao Domingos de Benfica</td>\n",
       "      <td>3412</td>\n",
       "      <td>995000</td>\n",
       "    </tr>\n",
       "    <tr>\n",
       "      <th>4</th>\n",
       "      <td>105</td>\n",
       "      <td>Used</td>\n",
       "      <td>Homes</td>\n",
       "      <td>Apartment</td>\n",
       "      <td>7</td>\n",
       "      <td>1</td>\n",
       "      <td>150</td>\n",
       "      <td>300</td>\n",
       "      <td>0</td>\n",
       "      <td>38.7323</td>\n",
       "      <td>-9.1287</td>\n",
       "      <td>Portugal</td>\n",
       "      <td>Lisboa</td>\n",
       "      <td>Lisboa</td>\n",
       "      <td>Arroios</td>\n",
       "      <td>3277</td>\n",
       "      <td>570000</td>\n",
       "    </tr>\n",
       "    <tr>\n",
       "      <th>...</th>\n",
       "      <td>...</td>\n",
       "      <td>...</td>\n",
       "      <td>...</td>\n",
       "      <td>...</td>\n",
       "      <td>...</td>\n",
       "      <td>...</td>\n",
       "      <td>...</td>\n",
       "      <td>...</td>\n",
       "      <td>...</td>\n",
       "      <td>...</td>\n",
       "      <td>...</td>\n",
       "      <td>...</td>\n",
       "      <td>...</td>\n",
       "      <td>...</td>\n",
       "      <td>...</td>\n",
       "      <td>...</td>\n",
       "      <td>...</td>\n",
       "    </tr>\n",
       "    <tr>\n",
       "      <th>241</th>\n",
       "      <td>346</td>\n",
       "      <td>For Refurbishment</td>\n",
       "      <td>Homes</td>\n",
       "      <td>Apartment</td>\n",
       "      <td>2</td>\n",
       "      <td>1</td>\n",
       "      <td>66</td>\n",
       "      <td>132</td>\n",
       "      <td>0</td>\n",
       "      <td>38.746</td>\n",
       "      <td>-9.1769</td>\n",
       "      <td>Portugal</td>\n",
       "      <td>Lisboa</td>\n",
       "      <td>Lisboa</td>\n",
       "      <td>Benfica</td>\n",
       "      <td>2727</td>\n",
       "      <td>196500</td>\n",
       "    </tr>\n",
       "    <tr>\n",
       "      <th>242</th>\n",
       "      <td>347</td>\n",
       "      <td>For Refurbishment</td>\n",
       "      <td>Homes</td>\n",
       "      <td>Apartment</td>\n",
       "      <td>3</td>\n",
       "      <td>1</td>\n",
       "      <td>75</td>\n",
       "      <td>150</td>\n",
       "      <td>0</td>\n",
       "      <td>38.7177</td>\n",
       "      <td>-9.1341</td>\n",
       "      <td>Portugal</td>\n",
       "      <td>Lisboa</td>\n",
       "      <td>Lisboa</td>\n",
       "      <td>Santa Maria Maior</td>\n",
       "      <td>4807</td>\n",
       "      <td>245000</td>\n",
       "    </tr>\n",
       "    <tr>\n",
       "      <th>243</th>\n",
       "      <td>348</td>\n",
       "      <td>For Refurbishment</td>\n",
       "      <td>Single Habitation</td>\n",
       "      <td>Townhouse Dwelling</td>\n",
       "      <td>2</td>\n",
       "      <td>1</td>\n",
       "      <td>90</td>\n",
       "      <td>180</td>\n",
       "      <td>0</td>\n",
       "      <td>38.7694</td>\n",
       "      <td>-9.1138</td>\n",
       "      <td>Portugal</td>\n",
       "      <td>Lisboa</td>\n",
       "      <td>Lisboa</td>\n",
       "      <td>Olivais</td>\n",
       "      <td>2463</td>\n",
       "      <td>486000</td>\n",
       "    </tr>\n",
       "    <tr>\n",
       "      <th>244</th>\n",
       "      <td>349</td>\n",
       "      <td>For Refurbishment</td>\n",
       "      <td>Single Habitation</td>\n",
       "      <td>Dwelling</td>\n",
       "      <td>4</td>\n",
       "      <td>3</td>\n",
       "      <td>121</td>\n",
       "      <td>242</td>\n",
       "      <td>0</td>\n",
       "      <td>38.703</td>\n",
       "      <td>-9.2044</td>\n",
       "      <td>Portugal</td>\n",
       "      <td>Lisboa</td>\n",
       "      <td>Lisboa</td>\n",
       "      <td>Belem</td>\n",
       "      <td>3542</td>\n",
       "      <td>375000</td>\n",
       "    </tr>\n",
       "    <tr>\n",
       "      <th>245</th>\n",
       "      <td>350</td>\n",
       "      <td>For Refurbishment</td>\n",
       "      <td>Single Habitation</td>\n",
       "      <td>Townhouse Dwelling</td>\n",
       "      <td>2</td>\n",
       "      <td>2</td>\n",
       "      <td>70</td>\n",
       "      <td>140</td>\n",
       "      <td>0</td>\n",
       "      <td>38.7265</td>\n",
       "      <td>-9.168</td>\n",
       "      <td>Portugal</td>\n",
       "      <td>Lisboa</td>\n",
       "      <td>Lisboa</td>\n",
       "      <td>Campolide</td>\n",
       "      <td>3036</td>\n",
       "      <td>850000</td>\n",
       "    </tr>\n",
       "  </tbody>\n",
       "</table>\n",
       "<p>246 rows × 17 columns</p>\n",
       "</div>"
      ],
      "text/plain": [
       "      Id          Condition       PropertyType     PropertySubType  Bedrooms  \\\n",
       "0    101               Used              Homes           Apartment         3   \n",
       "1    102               Used              Homes              Duplex         5   \n",
       "2    103               Used              Homes           Apartment         1   \n",
       "3    104               Used              Homes           Apartment         5   \n",
       "4    105               Used              Homes           Apartment         7   \n",
       "..   ...                ...                ...                 ...       ...   \n",
       "241  346  For Refurbishment              Homes           Apartment         2   \n",
       "242  347  For Refurbishment              Homes           Apartment         3   \n",
       "243  348  For Refurbishment  Single Habitation  Townhouse Dwelling         2   \n",
       "244  349  For Refurbishment  Single Habitation            Dwelling         4   \n",
       "245  350  For Refurbishment  Single Habitation  Townhouse Dwelling         2   \n",
       "\n",
       "     Bathrooms  AreaNet  AreaGross  Parking  Latitude  Longitude   Country  \\\n",
       "0            1       76        152        0   38.7792    -9.1186  Portugal   \n",
       "1            3      190        380        0   38.7056    -9.1784  Portugal   \n",
       "2            1       26         52        0   38.7058    -9.1639  Portugal   \n",
       "3            4      185        370        0   38.7466     -9.164  Portugal   \n",
       "4            1      150        300        0   38.7323    -9.1287  Portugal   \n",
       "..         ...      ...        ...      ...       ...        ...       ...   \n",
       "241          1       66        132        0    38.746    -9.1769  Portugal   \n",
       "242          1       75        150        0   38.7177    -9.1341  Portugal   \n",
       "243          1       90        180        0   38.7694    -9.1138  Portugal   \n",
       "244          3      121        242        0    38.703    -9.2044  Portugal   \n",
       "245          2       70        140        0   38.7265     -9.168  Portugal   \n",
       "\n",
       "    District Municipality                   Parish  Price M2    Price  \n",
       "0     Lisboa       Lisboa                  Olivais      2463   198000  \n",
       "1     Lisboa       Lisboa                Alcantara      3125  1270000  \n",
       "2     Lisboa       Lisboa                  Estrela      4005   140000  \n",
       "3     Lisboa       Lisboa  Sao Domingos de Benfica      3412   995000  \n",
       "4     Lisboa       Lisboa                  Arroios      3277   570000  \n",
       "..       ...          ...                      ...       ...      ...  \n",
       "241   Lisboa       Lisboa                  Benfica      2727   196500  \n",
       "242   Lisboa       Lisboa        Santa Maria Maior      4807   245000  \n",
       "243   Lisboa       Lisboa                  Olivais      2463   486000  \n",
       "244   Lisboa       Lisboa                    Belem      3542   375000  \n",
       "245   Lisboa       Lisboa                Campolide      3036   850000  \n",
       "\n",
       "[246 rows x 17 columns]"
      ]
     },
     "execution_count": 16,
     "metadata": {},
     "output_type": "execute_result"
    }
   ],
   "source": [
    "df"
   ]
  },
  {
   "cell_type": "markdown",
   "id": "isolated-brazil",
   "metadata": {},
   "source": [
    "Our dataset has a total of 17 columns and each column has 246 observations.\n",
    "\n",
    "Columns:\n",
    "\n",
    "  * **Id**: is a unique identifying number assigned to each house.\n",
    "  * **Condition**: The house condition (i.e., New, Used, As New, For Refurbishment).\n",
    "  * **PropertyType**: Property type (i.e., Home, Single habitation)\n",
    "  * **PropertySubType**: Property Sub Type (i.e., Apartment, duplex, etc.)\n",
    "  * **Bedrooms**: Number of Bedrooms\n",
    "  * **Bathrooms**: Number of Bathrooms\n",
    "  * **AreaNet**:Net area of the house\n",
    "  * **AreaGross**: Gross area of the house\n",
    "  * **Parking**: Number of parking places\n",
    "  * **Latitude**: Geographical Latitude\n",
    "  * **Longitude**: Geographical Longitude\n",
    "  * **Country**: Country where the house is located\n",
    "  * **District**: District where the house is located\n",
    "  * **Municipality**: Municipality where the house is located\n",
    "  * **Parish**: Parish where the house is located\n",
    "  * **Price M2**: Price per m² in the location of the house\n",
    "  * **Price**: This is our training variable and target. It is the home price\n",
    "\n"
   ]
  },
  {
   "cell_type": "code",
   "execution_count": 17,
   "id": "aggressive-harvard",
   "metadata": {
    "scrolled": true
   },
   "outputs": [
    {
     "data": {
      "text/plain": [
       "Index(['Id', 'Condition', 'PropertyType', 'PropertySubType', 'Bedrooms',\n",
       "       'Bathrooms', 'AreaNet', 'AreaGross', 'Parking', 'Latitude', 'Longitude',\n",
       "       'Country', 'District', 'Municipality', 'Parish', 'Price M2', 'Price'],\n",
       "      dtype='object')"
      ]
     },
     "execution_count": 17,
     "metadata": {},
     "output_type": "execute_result"
    }
   ],
   "source": [
    "df.columns"
   ]
  },
  {
   "cell_type": "code",
   "execution_count": 18,
   "id": "lovely-disney",
   "metadata": {},
   "outputs": [
    {
     "data": {
      "text/html": [
       "<div>\n",
       "<style scoped>\n",
       "    .dataframe tbody tr th:only-of-type {\n",
       "        vertical-align: middle;\n",
       "    }\n",
       "\n",
       "    .dataframe tbody tr th {\n",
       "        vertical-align: top;\n",
       "    }\n",
       "\n",
       "    .dataframe thead th {\n",
       "        text-align: right;\n",
       "    }\n",
       "</style>\n",
       "<table border=\"1\" class=\"dataframe\">\n",
       "  <thead>\n",
       "    <tr style=\"text-align: right;\">\n",
       "      <th></th>\n",
       "      <th>Id</th>\n",
       "      <th>Condition</th>\n",
       "      <th>PropertyType</th>\n",
       "      <th>PropertySubType</th>\n",
       "      <th>Bedrooms</th>\n",
       "      <th>Bathrooms</th>\n",
       "      <th>AreaNet</th>\n",
       "      <th>AreaGross</th>\n",
       "      <th>Parking</th>\n",
       "      <th>Latitude</th>\n",
       "      <th>Longitude</th>\n",
       "      <th>Parish</th>\n",
       "      <th>Price M2</th>\n",
       "      <th>Price</th>\n",
       "    </tr>\n",
       "  </thead>\n",
       "  <tbody>\n",
       "    <tr>\n",
       "      <th>0</th>\n",
       "      <td>101</td>\n",
       "      <td>Used</td>\n",
       "      <td>Homes</td>\n",
       "      <td>Apartment</td>\n",
       "      <td>3</td>\n",
       "      <td>1</td>\n",
       "      <td>76</td>\n",
       "      <td>152</td>\n",
       "      <td>0</td>\n",
       "      <td>38.7792</td>\n",
       "      <td>-9.1186</td>\n",
       "      <td>Olivais</td>\n",
       "      <td>2463</td>\n",
       "      <td>198000</td>\n",
       "    </tr>\n",
       "    <tr>\n",
       "      <th>1</th>\n",
       "      <td>102</td>\n",
       "      <td>Used</td>\n",
       "      <td>Homes</td>\n",
       "      <td>Duplex</td>\n",
       "      <td>5</td>\n",
       "      <td>3</td>\n",
       "      <td>190</td>\n",
       "      <td>380</td>\n",
       "      <td>0</td>\n",
       "      <td>38.7056</td>\n",
       "      <td>-9.1784</td>\n",
       "      <td>Alcantara</td>\n",
       "      <td>3125</td>\n",
       "      <td>1270000</td>\n",
       "    </tr>\n",
       "    <tr>\n",
       "      <th>2</th>\n",
       "      <td>103</td>\n",
       "      <td>Used</td>\n",
       "      <td>Homes</td>\n",
       "      <td>Apartment</td>\n",
       "      <td>1</td>\n",
       "      <td>1</td>\n",
       "      <td>26</td>\n",
       "      <td>52</td>\n",
       "      <td>0</td>\n",
       "      <td>38.7058</td>\n",
       "      <td>-9.1639</td>\n",
       "      <td>Estrela</td>\n",
       "      <td>4005</td>\n",
       "      <td>140000</td>\n",
       "    </tr>\n",
       "    <tr>\n",
       "      <th>3</th>\n",
       "      <td>104</td>\n",
       "      <td>Used</td>\n",
       "      <td>Homes</td>\n",
       "      <td>Apartment</td>\n",
       "      <td>5</td>\n",
       "      <td>4</td>\n",
       "      <td>185</td>\n",
       "      <td>370</td>\n",
       "      <td>0</td>\n",
       "      <td>38.7466</td>\n",
       "      <td>-9.164</td>\n",
       "      <td>Sao Domingos de Benfica</td>\n",
       "      <td>3412</td>\n",
       "      <td>995000</td>\n",
       "    </tr>\n",
       "    <tr>\n",
       "      <th>4</th>\n",
       "      <td>105</td>\n",
       "      <td>Used</td>\n",
       "      <td>Homes</td>\n",
       "      <td>Apartment</td>\n",
       "      <td>7</td>\n",
       "      <td>1</td>\n",
       "      <td>150</td>\n",
       "      <td>300</td>\n",
       "      <td>0</td>\n",
       "      <td>38.7323</td>\n",
       "      <td>-9.1287</td>\n",
       "      <td>Arroios</td>\n",
       "      <td>3277</td>\n",
       "      <td>570000</td>\n",
       "    </tr>\n",
       "    <tr>\n",
       "      <th>...</th>\n",
       "      <td>...</td>\n",
       "      <td>...</td>\n",
       "      <td>...</td>\n",
       "      <td>...</td>\n",
       "      <td>...</td>\n",
       "      <td>...</td>\n",
       "      <td>...</td>\n",
       "      <td>...</td>\n",
       "      <td>...</td>\n",
       "      <td>...</td>\n",
       "      <td>...</td>\n",
       "      <td>...</td>\n",
       "      <td>...</td>\n",
       "      <td>...</td>\n",
       "    </tr>\n",
       "    <tr>\n",
       "      <th>241</th>\n",
       "      <td>346</td>\n",
       "      <td>For Refurbishment</td>\n",
       "      <td>Homes</td>\n",
       "      <td>Apartment</td>\n",
       "      <td>2</td>\n",
       "      <td>1</td>\n",
       "      <td>66</td>\n",
       "      <td>132</td>\n",
       "      <td>0</td>\n",
       "      <td>38.746</td>\n",
       "      <td>-9.1769</td>\n",
       "      <td>Benfica</td>\n",
       "      <td>2727</td>\n",
       "      <td>196500</td>\n",
       "    </tr>\n",
       "    <tr>\n",
       "      <th>242</th>\n",
       "      <td>347</td>\n",
       "      <td>For Refurbishment</td>\n",
       "      <td>Homes</td>\n",
       "      <td>Apartment</td>\n",
       "      <td>3</td>\n",
       "      <td>1</td>\n",
       "      <td>75</td>\n",
       "      <td>150</td>\n",
       "      <td>0</td>\n",
       "      <td>38.7177</td>\n",
       "      <td>-9.1341</td>\n",
       "      <td>Santa Maria Maior</td>\n",
       "      <td>4807</td>\n",
       "      <td>245000</td>\n",
       "    </tr>\n",
       "    <tr>\n",
       "      <th>243</th>\n",
       "      <td>348</td>\n",
       "      <td>For Refurbishment</td>\n",
       "      <td>Single Habitation</td>\n",
       "      <td>Townhouse Dwelling</td>\n",
       "      <td>2</td>\n",
       "      <td>1</td>\n",
       "      <td>90</td>\n",
       "      <td>180</td>\n",
       "      <td>0</td>\n",
       "      <td>38.7694</td>\n",
       "      <td>-9.1138</td>\n",
       "      <td>Olivais</td>\n",
       "      <td>2463</td>\n",
       "      <td>486000</td>\n",
       "    </tr>\n",
       "    <tr>\n",
       "      <th>244</th>\n",
       "      <td>349</td>\n",
       "      <td>For Refurbishment</td>\n",
       "      <td>Single Habitation</td>\n",
       "      <td>Dwelling</td>\n",
       "      <td>4</td>\n",
       "      <td>3</td>\n",
       "      <td>121</td>\n",
       "      <td>242</td>\n",
       "      <td>0</td>\n",
       "      <td>38.703</td>\n",
       "      <td>-9.2044</td>\n",
       "      <td>Belem</td>\n",
       "      <td>3542</td>\n",
       "      <td>375000</td>\n",
       "    </tr>\n",
       "    <tr>\n",
       "      <th>245</th>\n",
       "      <td>350</td>\n",
       "      <td>For Refurbishment</td>\n",
       "      <td>Single Habitation</td>\n",
       "      <td>Townhouse Dwelling</td>\n",
       "      <td>2</td>\n",
       "      <td>2</td>\n",
       "      <td>70</td>\n",
       "      <td>140</td>\n",
       "      <td>0</td>\n",
       "      <td>38.7265</td>\n",
       "      <td>-9.168</td>\n",
       "      <td>Campolide</td>\n",
       "      <td>3036</td>\n",
       "      <td>850000</td>\n",
       "    </tr>\n",
       "  </tbody>\n",
       "</table>\n",
       "<p>246 rows × 14 columns</p>\n",
       "</div>"
      ],
      "text/plain": [
       "      Id          Condition       PropertyType     PropertySubType  Bedrooms  \\\n",
       "0    101               Used              Homes           Apartment         3   \n",
       "1    102               Used              Homes              Duplex         5   \n",
       "2    103               Used              Homes           Apartment         1   \n",
       "3    104               Used              Homes           Apartment         5   \n",
       "4    105               Used              Homes           Apartment         7   \n",
       "..   ...                ...                ...                 ...       ...   \n",
       "241  346  For Refurbishment              Homes           Apartment         2   \n",
       "242  347  For Refurbishment              Homes           Apartment         3   \n",
       "243  348  For Refurbishment  Single Habitation  Townhouse Dwelling         2   \n",
       "244  349  For Refurbishment  Single Habitation            Dwelling         4   \n",
       "245  350  For Refurbishment  Single Habitation  Townhouse Dwelling         2   \n",
       "\n",
       "     Bathrooms  AreaNet  AreaGross  Parking  Latitude  Longitude  \\\n",
       "0            1       76        152        0   38.7792    -9.1186   \n",
       "1            3      190        380        0   38.7056    -9.1784   \n",
       "2            1       26         52        0   38.7058    -9.1639   \n",
       "3            4      185        370        0   38.7466     -9.164   \n",
       "4            1      150        300        0   38.7323    -9.1287   \n",
       "..         ...      ...        ...      ...       ...        ...   \n",
       "241          1       66        132        0    38.746    -9.1769   \n",
       "242          1       75        150        0   38.7177    -9.1341   \n",
       "243          1       90        180        0   38.7694    -9.1138   \n",
       "244          3      121        242        0    38.703    -9.2044   \n",
       "245          2       70        140        0   38.7265     -9.168   \n",
       "\n",
       "                      Parish  Price M2    Price  \n",
       "0                    Olivais      2463   198000  \n",
       "1                  Alcantara      3125  1270000  \n",
       "2                    Estrela      4005   140000  \n",
       "3    Sao Domingos de Benfica      3412   995000  \n",
       "4                    Arroios      3277   570000  \n",
       "..                       ...       ...      ...  \n",
       "241                  Benfica      2727   196500  \n",
       "242        Santa Maria Maior      4807   245000  \n",
       "243                  Olivais      2463   486000  \n",
       "244                    Belem      3542   375000  \n",
       "245                Campolide      3036   850000  \n",
       "\n",
       "[246 rows x 14 columns]"
      ]
     },
     "execution_count": 18,
     "metadata": {},
     "output_type": "execute_result"
    }
   ],
   "source": [
    "df.drop(['Country', 'District','Municipality'], axis=1)"
   ]
  },
  {
   "cell_type": "code",
   "execution_count": 19,
   "id": "lyric-majority",
   "metadata": {
    "scrolled": true
   },
   "outputs": [
    {
     "data": {
      "text/html": [
       "<div>\n",
       "<style scoped>\n",
       "    .dataframe tbody tr th:only-of-type {\n",
       "        vertical-align: middle;\n",
       "    }\n",
       "\n",
       "    .dataframe tbody tr th {\n",
       "        vertical-align: top;\n",
       "    }\n",
       "\n",
       "    .dataframe thead th {\n",
       "        text-align: right;\n",
       "    }\n",
       "</style>\n",
       "<table border=\"1\" class=\"dataframe\">\n",
       "  <thead>\n",
       "    <tr style=\"text-align: right;\">\n",
       "      <th></th>\n",
       "      <th>Id</th>\n",
       "      <th>Condition</th>\n",
       "      <th>PropertyType</th>\n",
       "      <th>PropertySubType</th>\n",
       "      <th>Bedrooms</th>\n",
       "      <th>Bathrooms</th>\n",
       "      <th>AreaNet</th>\n",
       "      <th>AreaGross</th>\n",
       "      <th>Parking</th>\n",
       "      <th>Latitude</th>\n",
       "      <th>Longitude</th>\n",
       "      <th>Country</th>\n",
       "      <th>District</th>\n",
       "      <th>Municipality</th>\n",
       "      <th>Parish</th>\n",
       "      <th>Price M2</th>\n",
       "      <th>Price</th>\n",
       "    </tr>\n",
       "  </thead>\n",
       "  <tbody>\n",
       "    <tr>\n",
       "      <th>count</th>\n",
       "      <td>246.000000</td>\n",
       "      <td>246</td>\n",
       "      <td>246</td>\n",
       "      <td>246</td>\n",
       "      <td>246.000000</td>\n",
       "      <td>246.000000</td>\n",
       "      <td>246.000000</td>\n",
       "      <td>246.000000</td>\n",
       "      <td>246.000000</td>\n",
       "      <td>246.000000</td>\n",
       "      <td>246.000000</td>\n",
       "      <td>246</td>\n",
       "      <td>246</td>\n",
       "      <td>246</td>\n",
       "      <td>246</td>\n",
       "      <td>246.000000</td>\n",
       "      <td>2.460000e+02</td>\n",
       "    </tr>\n",
       "    <tr>\n",
       "      <th>unique</th>\n",
       "      <td>NaN</td>\n",
       "      <td>4</td>\n",
       "      <td>2</td>\n",
       "      <td>8</td>\n",
       "      <td>NaN</td>\n",
       "      <td>NaN</td>\n",
       "      <td>NaN</td>\n",
       "      <td>NaN</td>\n",
       "      <td>NaN</td>\n",
       "      <td>NaN</td>\n",
       "      <td>NaN</td>\n",
       "      <td>1</td>\n",
       "      <td>1</td>\n",
       "      <td>1</td>\n",
       "      <td>24</td>\n",
       "      <td>NaN</td>\n",
       "      <td>NaN</td>\n",
       "    </tr>\n",
       "    <tr>\n",
       "      <th>top</th>\n",
       "      <td>NaN</td>\n",
       "      <td>New</td>\n",
       "      <td>Homes</td>\n",
       "      <td>Apartment</td>\n",
       "      <td>NaN</td>\n",
       "      <td>NaN</td>\n",
       "      <td>NaN</td>\n",
       "      <td>NaN</td>\n",
       "      <td>NaN</td>\n",
       "      <td>NaN</td>\n",
       "      <td>NaN</td>\n",
       "      <td>Portugal</td>\n",
       "      <td>Lisboa</td>\n",
       "      <td>Lisboa</td>\n",
       "      <td>Marvila</td>\n",
       "      <td>NaN</td>\n",
       "      <td>NaN</td>\n",
       "    </tr>\n",
       "    <tr>\n",
       "      <th>freq</th>\n",
       "      <td>NaN</td>\n",
       "      <td>96</td>\n",
       "      <td>239</td>\n",
       "      <td>226</td>\n",
       "      <td>NaN</td>\n",
       "      <td>NaN</td>\n",
       "      <td>NaN</td>\n",
       "      <td>NaN</td>\n",
       "      <td>NaN</td>\n",
       "      <td>NaN</td>\n",
       "      <td>NaN</td>\n",
       "      <td>246</td>\n",
       "      <td>246</td>\n",
       "      <td>246</td>\n",
       "      <td>51</td>\n",
       "      <td>NaN</td>\n",
       "      <td>NaN</td>\n",
       "    </tr>\n",
       "    <tr>\n",
       "      <th>mean</th>\n",
       "      <td>226.670732</td>\n",
       "      <td>NaN</td>\n",
       "      <td>NaN</td>\n",
       "      <td>NaN</td>\n",
       "      <td>2.491870</td>\n",
       "      <td>1.845528</td>\n",
       "      <td>109.662602</td>\n",
       "      <td>219.325203</td>\n",
       "      <td>0.154472</td>\n",
       "      <td>38.733106</td>\n",
       "      <td>-9.140051</td>\n",
       "      <td>NaN</td>\n",
       "      <td>NaN</td>\n",
       "      <td>NaN</td>\n",
       "      <td>NaN</td>\n",
       "      <td>3487.873984</td>\n",
       "      <td>5.516588e+05</td>\n",
       "    </tr>\n",
       "    <tr>\n",
       "      <th>std</th>\n",
       "      <td>72.308419</td>\n",
       "      <td>NaN</td>\n",
       "      <td>NaN</td>\n",
       "      <td>NaN</td>\n",
       "      <td>1.354484</td>\n",
       "      <td>1.034369</td>\n",
       "      <td>66.261664</td>\n",
       "      <td>132.523328</td>\n",
       "      <td>0.503579</td>\n",
       "      <td>0.020778</td>\n",
       "      <td>0.032356</td>\n",
       "      <td>NaN</td>\n",
       "      <td>NaN</td>\n",
       "      <td>NaN</td>\n",
       "      <td>NaN</td>\n",
       "      <td>715.896079</td>\n",
       "      <td>4.220916e+05</td>\n",
       "    </tr>\n",
       "    <tr>\n",
       "      <th>min</th>\n",
       "      <td>101.000000</td>\n",
       "      <td>NaN</td>\n",
       "      <td>NaN</td>\n",
       "      <td>NaN</td>\n",
       "      <td>0.000000</td>\n",
       "      <td>0.000000</td>\n",
       "      <td>23.000000</td>\n",
       "      <td>46.000000</td>\n",
       "      <td>0.000000</td>\n",
       "      <td>38.696300</td>\n",
       "      <td>-9.224400</td>\n",
       "      <td>NaN</td>\n",
       "      <td>NaN</td>\n",
       "      <td>NaN</td>\n",
       "      <td>NaN</td>\n",
       "      <td>2393.000000</td>\n",
       "      <td>8.500000e+04</td>\n",
       "    </tr>\n",
       "    <tr>\n",
       "      <th>25%</th>\n",
       "      <td>166.250000</td>\n",
       "      <td>NaN</td>\n",
       "      <td>NaN</td>\n",
       "      <td>NaN</td>\n",
       "      <td>2.000000</td>\n",
       "      <td>1.000000</td>\n",
       "      <td>64.250000</td>\n",
       "      <td>128.500000</td>\n",
       "      <td>0.000000</td>\n",
       "      <td>38.716900</td>\n",
       "      <td>-9.160700</td>\n",
       "      <td>NaN</td>\n",
       "      <td>NaN</td>\n",
       "      <td>NaN</td>\n",
       "      <td>NaN</td>\n",
       "      <td>2881.000000</td>\n",
       "      <td>2.712500e+05</td>\n",
       "    </tr>\n",
       "    <tr>\n",
       "      <th>50%</th>\n",
       "      <td>227.500000</td>\n",
       "      <td>NaN</td>\n",
       "      <td>NaN</td>\n",
       "      <td>NaN</td>\n",
       "      <td>2.000000</td>\n",
       "      <td>2.000000</td>\n",
       "      <td>90.000000</td>\n",
       "      <td>180.000000</td>\n",
       "      <td>0.000000</td>\n",
       "      <td>38.730050</td>\n",
       "      <td>-9.136800</td>\n",
       "      <td>NaN</td>\n",
       "      <td>NaN</td>\n",
       "      <td>NaN</td>\n",
       "      <td>NaN</td>\n",
       "      <td>3402.000000</td>\n",
       "      <td>4.500000e+05</td>\n",
       "    </tr>\n",
       "    <tr>\n",
       "      <th>75%</th>\n",
       "      <td>288.750000</td>\n",
       "      <td>NaN</td>\n",
       "      <td>NaN</td>\n",
       "      <td>NaN</td>\n",
       "      <td>3.000000</td>\n",
       "      <td>2.000000</td>\n",
       "      <td>145.000000</td>\n",
       "      <td>290.000000</td>\n",
       "      <td>0.000000</td>\n",
       "      <td>38.745800</td>\n",
       "      <td>-9.113575</td>\n",
       "      <td>NaN</td>\n",
       "      <td>NaN</td>\n",
       "      <td>NaN</td>\n",
       "      <td>NaN</td>\n",
       "      <td>3859.000000</td>\n",
       "      <td>7.150000e+05</td>\n",
       "    </tr>\n",
       "    <tr>\n",
       "      <th>max</th>\n",
       "      <td>350.000000</td>\n",
       "      <td>NaN</td>\n",
       "      <td>NaN</td>\n",
       "      <td>NaN</td>\n",
       "      <td>11.000000</td>\n",
       "      <td>6.000000</td>\n",
       "      <td>573.000000</td>\n",
       "      <td>1146.000000</td>\n",
       "      <td>3.000000</td>\n",
       "      <td>38.789900</td>\n",
       "      <td>-9.093800</td>\n",
       "      <td>NaN</td>\n",
       "      <td>NaN</td>\n",
       "      <td>NaN</td>\n",
       "      <td>NaN</td>\n",
       "      <td>5340.000000</td>\n",
       "      <td>4.150000e+06</td>\n",
       "    </tr>\n",
       "  </tbody>\n",
       "</table>\n",
       "</div>"
      ],
      "text/plain": [
       "                Id Condition PropertyType PropertySubType    Bedrooms  \\\n",
       "count   246.000000       246          246             246  246.000000   \n",
       "unique         NaN         4            2               8         NaN   \n",
       "top            NaN       New        Homes       Apartment         NaN   \n",
       "freq           NaN        96          239             226         NaN   \n",
       "mean    226.670732       NaN          NaN             NaN    2.491870   \n",
       "std      72.308419       NaN          NaN             NaN    1.354484   \n",
       "min     101.000000       NaN          NaN             NaN    0.000000   \n",
       "25%     166.250000       NaN          NaN             NaN    2.000000   \n",
       "50%     227.500000       NaN          NaN             NaN    2.000000   \n",
       "75%     288.750000       NaN          NaN             NaN    3.000000   \n",
       "max     350.000000       NaN          NaN             NaN   11.000000   \n",
       "\n",
       "         Bathrooms     AreaNet    AreaGross     Parking    Latitude  \\\n",
       "count   246.000000  246.000000   246.000000  246.000000  246.000000   \n",
       "unique         NaN         NaN          NaN         NaN         NaN   \n",
       "top            NaN         NaN          NaN         NaN         NaN   \n",
       "freq           NaN         NaN          NaN         NaN         NaN   \n",
       "mean      1.845528  109.662602   219.325203    0.154472   38.733106   \n",
       "std       1.034369   66.261664   132.523328    0.503579    0.020778   \n",
       "min       0.000000   23.000000    46.000000    0.000000   38.696300   \n",
       "25%       1.000000   64.250000   128.500000    0.000000   38.716900   \n",
       "50%       2.000000   90.000000   180.000000    0.000000   38.730050   \n",
       "75%       2.000000  145.000000   290.000000    0.000000   38.745800   \n",
       "max       6.000000  573.000000  1146.000000    3.000000   38.789900   \n",
       "\n",
       "         Longitude   Country District Municipality   Parish     Price M2  \\\n",
       "count   246.000000       246      246          246      246   246.000000   \n",
       "unique         NaN         1        1            1       24          NaN   \n",
       "top            NaN  Portugal   Lisboa       Lisboa  Marvila          NaN   \n",
       "freq           NaN       246      246          246       51          NaN   \n",
       "mean     -9.140051       NaN      NaN          NaN      NaN  3487.873984   \n",
       "std       0.032356       NaN      NaN          NaN      NaN   715.896079   \n",
       "min      -9.224400       NaN      NaN          NaN      NaN  2393.000000   \n",
       "25%      -9.160700       NaN      NaN          NaN      NaN  2881.000000   \n",
       "50%      -9.136800       NaN      NaN          NaN      NaN  3402.000000   \n",
       "75%      -9.113575       NaN      NaN          NaN      NaN  3859.000000   \n",
       "max      -9.093800       NaN      NaN          NaN      NaN  5340.000000   \n",
       "\n",
       "               Price  \n",
       "count   2.460000e+02  \n",
       "unique           NaN  \n",
       "top              NaN  \n",
       "freq             NaN  \n",
       "mean    5.516588e+05  \n",
       "std     4.220916e+05  \n",
       "min     8.500000e+04  \n",
       "25%     2.712500e+05  \n",
       "50%     4.500000e+05  \n",
       "75%     7.150000e+05  \n",
       "max     4.150000e+06  "
      ]
     },
     "execution_count": 19,
     "metadata": {},
     "output_type": "execute_result"
    }
   ],
   "source": [
    "df.describe(include='all')"
   ]
  },
  {
   "cell_type": "markdown",
   "id": "restricted-piano",
   "metadata": {},
   "source": [
    "# Exploratory Data Analysis"
   ]
  },
  {
   "cell_type": "code",
   "execution_count": 20,
   "id": "checked-couple",
   "metadata": {
    "scrolled": true
   },
   "outputs": [
    {
     "name": "stdout",
     "output_type": "stream",
     "text": [
      "New                  96\n",
      "As New               54\n",
      "Used                 51\n",
      "For Refurbishment    45\n",
      "Name: Condition, dtype: Int64\n"
     ]
    },
    {
     "data": {
      "image/png": "[encoded data removed]",
      "text/plain": [
       "<Figure size 360x360 with 1 Axes>"
      ]
     },
     "metadata": {},
     "output_type": "display_data"
    }
   ],
   "source": [
    "sn.set()\n",
    "print(df['Condition'].value_counts())\n",
    "sn.catplot(x=\"Condition\", kind=\"count\", data=df);"
   ]
  },
  {
   "cell_type": "code",
   "execution_count": 21,
   "id": "executed-legend",
   "metadata": {},
   "outputs": [
    {
     "name": "stdout",
     "output_type": "stream",
     "text": [
      "Homes                239\n",
      "Single Habitation      7\n",
      "Name: PropertyType, dtype: Int64\n"
     ]
    },
    {
     "data": {
      "image/png": "[encoded data removed]",
      "text/plain": [
       "<Figure size 360x360 with 1 Axes>"
      ]
     },
     "metadata": {},
     "output_type": "display_data"
    }
   ],
   "source": [
    "print(df['PropertyType'].value_counts())\n",
    "sn.catplot(x=\"PropertyType\", kind=\"count\", data=df);"
   ]
  },
  {
   "cell_type": "code",
   "execution_count": 22,
   "id": "initial-scout",
   "metadata": {},
   "outputs": [
    {
     "name": "stdout",
     "output_type": "stream",
     "text": [
      "Apartment             226\n",
      "Duplex                  9\n",
      "Townhouse Dwelling      4\n",
      "Dwelling                2\n",
      "Studio                  2\n",
      "Isolated Villa          1\n",
      "Penthouse               1\n",
      "Apart Hotel             1\n",
      "Name: PropertySubType, dtype: Int64\n"
     ]
    },
    {
     "data": {
      "text/plain": [
       "<seaborn.axisgrid.FacetGrid at 0x7f28c03492e0>"
      ]
     },
     "execution_count": 22,
     "metadata": {},
     "output_type": "execute_result"
    },
    {
     "data": {
      "image/png": "[encoded data removed]",
      "text/plain": [
       "<Figure size 360x360 with 1 Axes>"
      ]
     },
     "metadata": {},
     "output_type": "display_data"
    }
   ],
   "source": [
    "print(df['PropertySubType'].value_counts())\n",
    "g = sn.catplot(x=\"PropertySubType\", kind=\"count\", data=df)\n",
    "g.set_xticklabels(rotation=30)"
   ]
  },
  {
   "cell_type": "code",
   "execution_count": 23,
   "id": "internal-tragedy",
   "metadata": {
    "scrolled": true
   },
   "outputs": [
    {
     "name": "stdout",
     "output_type": "stream",
     "text": [
      "Marvila                    51\n",
      "Campo de Ourique           23\n",
      "Estrela                    17\n",
      "Santa Maria Maior          17\n",
      "Arroios                    16\n",
      "Sao Vicente                14\n",
      "Penha de Franca            12\n",
      "Olivais                    11\n",
      "Belem                      11\n",
      "Alvalade                    8\n",
      "Avenidas Novas              8\n",
      "Parque das Nacoes           8\n",
      "Santo Antonio               8\n",
      "Lumiar                      7\n",
      "Campolide                   6\n",
      "Sao Domingos de Benfica     6\n",
      "Benfica                     5\n",
      "Ajuda                       5\n",
      "Misericordia                4\n",
      "Alcantara                   3\n",
      "Santa Clara                 2\n",
      "Carnide                     2\n",
      "Areeiro                     1\n",
      "Beato                       1\n",
      "Name: Parish, dtype: Int64\n"
     ]
    },
    {
     "data": {
      "text/plain": [
       "<seaborn.axisgrid.FacetGrid at 0x7f289298aca0>"
      ]
     },
     "execution_count": 23,
     "metadata": {},
     "output_type": "execute_result"
    },
    {
     "data": {
      "image/png": "[encoded data removed]",
      "text/plain": [
       "<Figure size 360x360 with 1 Axes>"
      ]
     },
     "metadata": {},
     "output_type": "display_data"
    }
   ],
   "source": [
    "print(df['Parish'].value_counts())\n",
    "g = sn.catplot(x=\"Parish\", kind=\"count\", data=df)\n",
    "g.set_xticklabels(rotation=90)"
   ]
  },
  {
   "cell_type": "code",
   "execution_count": 24,
   "id": "technical-passing",
   "metadata": {},
   "outputs": [
    {
     "data": {
      "image/png": "[encoded data removed]",
      "text/plain": [
       "<Figure size 540x180 with 3 Axes>"
      ]
     },
     "metadata": {},
     "output_type": "display_data"
    }
   ],
   "source": [
    "df_plot = df[[\"Price\", \"PropertyType\", \"AreaNet\", \n",
    "                  \"AreaGross\"]]\n",
    "\n",
    "g = sn.pairplot(data=df_plot, y_vars=['Price'], x_vars=df_plot.columns[1:4])\n",
    "g.tight_layout()"
   ]
  },
  {
   "cell_type": "code",
   "execution_count": 25,
   "id": "forbidden-convention",
   "metadata": {},
   "outputs": [
    {
     "data": {
      "image/png": "[encoded data removed]",
      "text/plain": [
       "<Figure size 432x288 with 1 Axes>"
      ]
     },
     "metadata": {},
     "output_type": "display_data"
    }
   ],
   "source": [
    "g = sn.scatterplot(data=df, y=df['Price'], x=df['Parish'], )\n",
    "g.tick_params(axis='x', rotation=90)"
   ]
  },
  {
   "cell_type": "code",
   "execution_count": 26,
   "id": "multiple-adapter",
   "metadata": {},
   "outputs": [
    {
     "data": {
      "image/png": "[encoded data removed]",
      "text/plain": [
       "<Figure size 432x288 with 1 Axes>"
      ]
     },
     "metadata": {},
     "output_type": "display_data"
    }
   ],
   "source": [
    "g = sn.scatterplot(data=df, y=df['Price'], x=df['PropertySubType'], )\n",
    "g.tick_params(axis='x', rotation=90)"
   ]
  },
  {
   "cell_type": "code",
   "execution_count": 27,
   "id": "molecular-reggae",
   "metadata": {
    "scrolled": true
   },
   "outputs": [
    {
     "data": {
      "image/png": "[encoded data removed]",
      "text/plain": [
       "<Figure size 432x288 with 1 Axes>"
      ]
     },
     "metadata": {},
     "output_type": "display_data"
    }
   ],
   "source": [
    "g = sn.scatterplot(data=df, y=df['Price'], x=df['Bedrooms'], )"
   ]
  },
  {
   "cell_type": "code",
   "execution_count": 28,
   "id": "embedded-grade",
   "metadata": {},
   "outputs": [
    {
     "data": {
      "image/png": "[encoded data removed]",
      "text/plain": [
       "<Figure size 432x288 with 1 Axes>"
      ]
     },
     "metadata": {},
     "output_type": "display_data"
    }
   ],
   "source": [
    "g = sn.scatterplot(data=df, y=df['Price'], x=df['Bathrooms'], )\n"
   ]
  },
  {
   "cell_type": "code",
   "execution_count": 29,
   "id": "modified-separate",
   "metadata": {},
   "outputs": [
    {
     "data": {
      "image/png": "[encoded data removed]",
      "text/plain": [
       "<Figure size 432x288 with 1 Axes>"
      ]
     },
     "metadata": {},
     "output_type": "display_data"
    }
   ],
   "source": [
    "g = sn.scatterplot(data=df, y=df['Price'], x=df['Condition'] )"
   ]
  },
  {
   "cell_type": "code",
   "execution_count": 67,
   "id": "continental-expansion",
   "metadata": {},
   "outputs": [
    {
     "data": {
      "image/png": "[encoded data removed]",
      "text/plain": [
       "<Figure size 1080x360 with 1 Axes>"
      ]
     },
     "metadata": {},
     "output_type": "display_data"
    }
   ],
   "source": [
    "\n",
    "sn.displot(df['Price']/1e3, \n",
    "            aspect=3,\n",
    "            kde=True)\n",
    "\n",
    "plt.title(f'House prices. Average: {round(df.Price.mean(),4)}€')\n",
    "plt.xlabel('Price in thousands')\n",
    "plt.ylabel('Nr. of Houses')\n",
    "\n",
    "plt.show()"
   ]
  },
  {
   "cell_type": "code",
   "execution_count": 69,
   "id": "compact-bookmark",
   "metadata": {},
   "outputs": [
    {
     "name": "stdout",
     "output_type": "stream",
     "text": [
      "Skewness: 0.067164\n",
      "Kurtosis: -0.289183\n"
     ]
    },
    {
     "name": "stderr",
     "output_type": "stream",
     "text": [
      "/home/rafael/.local/lib/python3.9/site-packages/seaborn/distributions.py:2619: FutureWarning: `distplot` is a deprecated function and will be removed in a future version. Please adapt your code to use either `displot` (a figure-level function with similar flexibility) or `histplot` (an axes-level function for histograms).\n",
      "  warnings.warn(msg, FutureWarning)\n"
     ]
    },
    {
     "data": {
      "image/png": "[encoded data removed]",
      "text/plain": [
       "<Figure size 432x288 with 1 Axes>"
      ]
     },
     "metadata": {},
     "output_type": "display_data"
    }
   ],
   "source": [
    "df['Price_Log'] = np.log(df['Price'])\n",
    "\n",
    "sn.distplot(df['Price_Log']);\n",
    "# skewness and kurtosis\n",
    "print(\"Skewness: %f\" % df['Price_Log'].skew())\n",
    "print(\"Kurtosis: %f\" % df['Price_Log'].kurt())\n",
    "\n"
   ]
  },
  {
   "cell_type": "code",
   "execution_count": null,
   "id": "convenient-soviet",
   "metadata": {},
   "outputs": [],
   "source": []
  }
 ],
 "metadata": {
  "kernelspec": {
   "display_name": "Python 3 (ipykernel)",
   "language": "python",
   "name": "python3"
  },
  "language_info": {
   "codemirror_mode": {
    "name": "ipython",
    "version": 3
   },
   "file_extension": ".py",
   "mimetype": "text/x-python",
   "name": "python",
   "nbconvert_exporter": "python",
   "pygments_lexer": "ipython3",
   "version": "3.9.2"
  }
 },
 "nbformat": 4,
 "nbformat_minor": 5
}
